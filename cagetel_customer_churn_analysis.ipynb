{
 "cells": [
  {
   "cell_type": "markdown",
   "metadata": {},
   "source": [
    "# 1) Data cleaning."
   ]
  },
  {
   "cell_type": "markdown",
   "metadata": {},
   "source": [
    "## Import the libraries."
   ]
  },
  {
   "cell_type": "code",
   "execution_count": null,
   "metadata": {},
   "outputs": [],
   "source": [
    "import numpy as np\n",
    "import pandas as pd\n",
    "import matplotlib.pyplot as plt\n",
    "import seaborn as sb\n",
    "import plotly.express as px\n",
    "\n",
    "%matplotlib inline\n",
    "\n",
    "# suppress warnings from final output\n",
    "import warnings\n",
    "warnings.simplefilter(\"ignore\")"
   ]
  },
  {
   "cell_type": "markdown",
   "metadata": {},
   "source": [
    "## Load the data."
   ]
  },
  {
   "cell_type": "code",
   "execution_count": null,
   "metadata": {},
   "outputs": [],
   "source": [
    "raw_df = pd.read_csv('WA_Fn-UseC_-Telco-Customer-Churn.csv')"
   ]
  },
  {
   "cell_type": "code",
   "execution_count": null,
   "metadata": {},
   "outputs": [],
   "source": [
    "raw_df.head()\n"
   ]
  },
  {
   "cell_type": "markdown",
   "metadata": {},
   "source": [
    "We can see that TotalCharges column is object datatype. We'll have to convert it to float datatype."
   ]
  },
  {
   "cell_type": "code",
   "execution_count": null,
   "metadata": {},
   "outputs": [],
   "source": [
    "raw_df.info()"
   ]
  },
  {
   "cell_type": "code",
   "execution_count": null,
   "metadata": {},
   "outputs": [],
   "source": [
    "raw_df[\"TotalCharges\"] = pd.to_numeric(raw_df[\"TotalCharges\"],errors='coerce')"
   ]
  },
  {
   "cell_type": "markdown",
   "metadata": {},
   "source": [
    "After conversion to float, we see that Total charges has 11 null values. We'll drop these null values."
   ]
  },
  {
   "cell_type": "code",
   "execution_count": null,
   "metadata": {},
   "outputs": [],
   "source": [
    "raw_df.isnull().sum()"
   ]
  },
  {
   "cell_type": "code",
   "execution_count": null,
   "metadata": {},
   "outputs": [],
   "source": [
    "raw_df.dropna(inplace=True)"
   ]
  },
  {
   "cell_type": "code",
   "execution_count": null,
   "metadata": {},
   "outputs": [],
   "source": [
    "raw_df.info()"
   ]
  },
  {
   "cell_type": "markdown",
   "metadata": {},
   "source": [
    "We see that columns like MultipleLines, OnlineSecurity, OnlineBackup, DeviceProtection, TechSupport, StreamingTV and StreamingMovies have values like \"No Phone Services\" and \"No internet service\". Converting these values to \"No\" as they don't contribute to any meaningful categorization and converting to \"No\" won't affect their relation as well as analysis."
   ]
  },
  {
   "cell_type": "code",
   "execution_count": null,
   "metadata": {},
   "outputs": [],
   "source": [
    "raw_df.value_counts('MultipleLines')\n",
    "raw_df.value_counts('OnlineSecurity')\n",
    "raw_df.value_counts('OnlineBackup')\n",
    "raw_df.value_counts('DeviceProtection')\n",
    "raw_df.value_counts('TechSupport')\n",
    "raw_df.value_counts('StreamingTV')\n",
    "raw_df.value_counts('StreamingMovies')"
   ]
  },
  {
   "cell_type": "code",
   "execution_count": null,
   "metadata": {},
   "outputs": [],
   "source": [
    "raw_df['MultipleLines'].replace(to_replace=\"No phone service\", value=\"No\", inplace=True)\n",
    "raw_df['OnlineSecurity'].replace(to_replace=\"No internet service\", value=\"No\", inplace=True)\n",
    "raw_df['OnlineBackup'].replace(to_replace=\"No internet service\", value=\"No\", inplace=True)\n",
    "raw_df['DeviceProtection'].replace(to_replace=\"No internet service\", value=\"No\", inplace=True)\n",
    "raw_df['TechSupport'].replace(to_replace=\"No internet service\", value=\"No\", inplace=True)\n",
    "raw_df['StreamingTV'].replace(to_replace=\"No internet service\", value=\"No\", inplace=True)\n",
    "raw_df['StreamingMovies'].replace(to_replace=\"No internet service\", value=\"No\", inplace=True)"
   ]
  },
  {
   "cell_type": "markdown",
   "metadata": {},
   "source": [
    "Removing the customer_id column as it serves no purpose for the customer churn analysis."
   ]
  },
  {
   "cell_type": "code",
   "execution_count": null,
   "metadata": {},
   "outputs": [],
   "source": [
    "new_df = raw_df.iloc[:,1:]"
   ]
  },
  {
   "cell_type": "markdown",
   "metadata": {},
   "source": [
    "We can also notice that the for many rows, the (monthly charges * tenure) is not equal to total charges. Let's dive into. "
   ]
  },
  {
   "cell_type": "code",
   "execution_count": null,
   "metadata": {},
   "outputs": [],
   "source": [
    "new_df['calculatedCharges'] = new_df['tenure']*new_df['MonthlyCharges']"
   ]
  },
  {
   "cell_type": "code",
   "execution_count": null,
   "metadata": {},
   "outputs": [],
   "source": [
    "#define conditions\n",
    "conditions =[new_df['TotalCharges'] > new_df['calculatedCharges'], new_df['TotalCharges'] < new_df['calculatedCharges']]\n",
    "\n",
    "#define choices\n",
    "choices = ['greater', 'lesser']\n",
    "\n",
    "new_df['TotalChargesStatus'] = np.select(conditions, choices, default='equal')\n",
    "new_df"
   ]
  },
  {
   "cell_type": "markdown",
   "metadata": {},
   "source": [
    "Here we can see that the total charges are not exactly computed as (tenure X Monthly charges) in the dataset. As per our calculations, we can see that only 614 transactions are equal to the above logic, the rest of the transactions are either greater or lesser in value. This means that the telco company has provided discounts for 3214 transactions and charged more(payment delay fines, or other value add charges) to 3204 transactions.\n",
    "\n",
    "This seems deliberate and hence we won't be making any new changes to the TotalCharges column and leave it as is in the dataset. No data cleaning will be applied for this."
   ]
  },
  {
   "cell_type": "code",
   "execution_count": null,
   "metadata": {},
   "outputs": [],
   "source": [
    "new_df.value_counts('TotalChargesStatus')"
   ]
  },
  {
   "cell_type": "code",
   "execution_count": null,
   "metadata": {},
   "outputs": [],
   "source": [
    "new_df.drop(new_df.columns[[-1,-2]], axis=1, inplace=True)\n",
    "new_df"
   ]
  },
  {
   "cell_type": "code",
   "execution_count": null,
   "metadata": {},
   "outputs": [],
   "source": [
    "#Convertin the predictor variable in a binary numeric variable. This is helpful if we are to build a model to predict churn.\n",
    "new_df['Churn'].replace(to_replace='Yes', value=1, inplace=True)\n",
    "new_df['Churn'].replace(to_replace='No',  value=0, inplace=True)\n",
    "clean_df = new_df\n",
    "clean_df"
   ]
  },
  {
   "cell_type": "code",
   "execution_count": null,
   "metadata": {},
   "outputs": [],
   "source": [
    "#Exporting the clean_df.\n",
    "clean_df.to_csv(r'C:\\Users\\samru\\Documents\\Coding\\data_analysis_projects\\DataAnalysisProjects\\CustomerChurnAnalysis\\docs\\cleaned_dataset\\cage_telco_customer_churn_clean.csv', index=False, header=True)"
   ]
  },
  {
   "cell_type": "markdown",
   "metadata": {},
   "source": [
    "# 2) Data Exploration."
   ]
  },
  {
   "cell_type": "code",
   "execution_count": null,
   "metadata": {},
   "outputs": [],
   "source": [
    "#Let's convert all the categorical variables into dummy variables to find the correlation.\n",
    "df_dummies = pd.get_dummies(clean_df)\n",
    "df_dummies.head()"
   ]
  },
  {
   "cell_type": "markdown",
   "metadata": {},
   "source": [
    "We can see factors like month-to-month contract, Fiber-optic internet service, payment-method electronic_check, monthly charges, paperlessBilling_yes, online security_no, no tech support, senior citizens, etc are positively correlated with churn, which means that with increase in these factors, higher churn.\n",
    "\n",
    "Factors like tenure, two year contract, TotalCharges, OnlineSecurity_yes and TechSupport_yes have negative correlation."
   ]
  },
  {
   "cell_type": "code",
   "execution_count": null,
   "metadata": {},
   "outputs": [],
   "source": [
    "#Get Correlation of \"Churn\" with other variables:\n",
    "plt.figure(figsize=(15,8))\n",
    "df_dummies.corr()['Churn'].sort_values(ascending = False).plot(kind='bar')"
   ]
  },
  {
   "cell_type": "markdown",
   "metadata": {},
   "source": [
    "## Explore demographics\n",
    "\n",
    "Let us first understand the gender, age range, patner and dependent status of the customers"
   ]
  },
  {
   "cell_type": "markdown",
   "metadata": {},
   "source": [
    "### Gender\n",
    "\n",
    "We can see the genders are balanced, both male and female customers make about 50% each in the dataset. Gender also doesn't have much affect on churn as seen in the correlation chart."
   ]
  },
  {
   "cell_type": "code",
   "execution_count": null,
   "metadata": {},
   "outputs": [],
   "source": [
    "colors = ['#900C3F', '#F25900']\n",
    "clean_df.gender.value_counts(normalize=True).mul(100).plot(xlabel=\"Gender\", ylabel=\"% Customers\", kind=\"bar\", rot=0, title=\"Gender distribution in percentage(%)\", color=colors)"
   ]
  },
  {
   "cell_type": "markdown",
   "metadata": {},
   "source": [
    "Distribution of SeniorCitizen in the dataset. About 84% of customers are not senior citizens. Many young people in the dataset.\n",
    "\n",
    "SeniorCitizen has a positive correlation with churn."
   ]
  },
  {
   "cell_type": "code",
   "execution_count": null,
   "metadata": {},
   "outputs": [],
   "source": [
    "clean_df.SeniorCitizen.value_counts(normalize=True).mul(100).plot.pie(autopct='%.2f%%', labels=['No', 'Yes'], figsize=(5,5), fontsize=12)"
   ]
  },
  {
   "cell_type": "markdown",
   "metadata": {},
   "source": [
    "Distribution of gender amongst the senior citizens is 50-50% male to female. Similar distibution for non-senior citizen customers too."
   ]
  },
  {
   "cell_type": "code",
   "execution_count": null,
   "metadata": {},
   "outputs": [],
   "source": [
    "colors = ['#900C3F', '#F25900']\n",
    "# clean_df.groupby(['SeniorCitizen', 'gender']).size().unstack().plot(kind=\"bar\", stacked=True, rot=0, color = colors)\n",
    "# clean_df.groupby(['SeniorCitizen', 'gender']).size().unstack()\n",
    "\n",
    "temp_one = clean_df.groupby('SeniorCitizen')['gender'].value_counts(normalize=True, sort=False).mul(100).round(2)\n",
    "temp_one.unstack().plot(ylabel=\"Customers in percentage(%)\",kind=\"bar\", stacked=True, rot=0, color=colors, title=\"SeniorCitizen vs gender stacked\")\n",
    "clean_df.groupby('SeniorCitizen')['gender'].value_counts(normalize=False, sort=False)"
   ]
  },
  {
   "cell_type": "markdown",
   "metadata": {},
   "source": [
    "### Partner\n",
    "\n",
    "We can see that about 50% of customers have dependents."
   ]
  },
  {
   "cell_type": "code",
   "execution_count": null,
   "metadata": {},
   "outputs": [],
   "source": [
    "clean_df.Partner.value_counts()"
   ]
  },
  {
   "cell_type": "markdown",
   "metadata": {},
   "source": [
    "### Dependents\n",
    "\n",
    "Around 70% of the customers do not have dependents. The Dependents_No does have a positive correlation with churn which has to be explored during churn analysis."
   ]
  },
  {
   "cell_type": "code",
   "execution_count": null,
   "metadata": {},
   "outputs": [],
   "source": [
    "colors = ['#FFC300', '#B1E73F']\n",
    "clean_df.Dependents.value_counts(normalize=True).mul(100).round(2).plot(xlabel=\"Dependents\", ylabel=\"Customers in percentage(%)\", kind=\"bar\", rot=0, title=\"Dependents distribution in percentage(%)\", color=colors)"
   ]
  },
  {
   "cell_type": "markdown",
   "metadata": {},
   "source": [
    "Let us explore partner-dependents relationship"
   ]
  },
  {
   "cell_type": "code",
   "execution_count": null,
   "metadata": {},
   "outputs": [],
   "source": [
    "colors = ['#FFC300', '#B1E73F']\n",
    "temp_one = clean_df.groupby('Partner')['Dependents'].value_counts(normalize=True, sort=False).mul(100).round(2)\n",
    "temp_one.unstack().plot(kind=\"bar\", ylabel=\"customers in percentage(%)\", stacked=True, rot=0, color=colors, title=\"Partner vs Dependents relation in percentage(%)\")\n",
    "clean_df.groupby('Partner')['Dependents'].value_counts(normalize=False, sort=False)"
   ]
  },
  {
   "cell_type": "markdown",
   "metadata": {},
   "source": [
    "## Explore Customer Account details.\n",
    "\n",
    "Let us look into tenure and contract types and their relation with each other."
   ]
  },
  {
   "cell_type": "markdown",
   "metadata": {},
   "source": [
    "### Tenure\n",
    "\n",
    "Majority of the customers have tenure less than 1-3 months as seen on the hist plot. The second peak shows us that customers who are loyal or long time have stayed with the telco company for more that 70 months. This distribution has two peaks."
   ]
  },
  {
   "cell_type": "code",
   "execution_count": null,
   "metadata": {},
   "outputs": [],
   "source": [
    "ax = sb.distplot(clean_df['tenure'], hist=True, kde=False, bins=60, color='#3FA5E7', hist_kws={'edgecolor':'black'})\n",
    "ax.set_ylabel(\"# of Customers\")\n",
    "ax.set_title(\"# of customers according to the tenure\")"
   ]
  },
  {
   "cell_type": "markdown",
   "metadata": {},
   "source": [
    "### Contract types.\n",
    "\n",
    "Majority of the customers have taken the month-to-month contracts. The two-year and one-year contracts have almost the same no. of takers."
   ]
  },
  {
   "cell_type": "code",
   "execution_count": null,
   "metadata": {},
   "outputs": [],
   "source": [
    "colors=['#3F51E7', '#813FE7', '#E73FA5']\n",
    "clean_df.Contract.value_counts().plot(kind=\"bar\", rot=0, ylabel=\"# of customers\", title=\"# No of customers vs contract\", color=colors)"
   ]
  },
  {
   "cell_type": "markdown",
   "metadata": {},
   "source": [
    "Let's see how each contract type performs in the given tenure.\n",
    "\n",
    "Most of the month-to-month contracts last for 1-2 months and the two-year contracts, huge number of them last 70+ months. This indicates that long term(two-year, one-year) contracts customers are more loyal and less likely to churn compared to the monthly contract customers."
   ]
  },
  {
   "cell_type": "code",
   "execution_count": null,
   "metadata": {},
   "outputs": [],
   "source": [
    "fig, (ax1,ax2,ax3) = plt.subplots(nrows=1, ncols=3, sharey = True, figsize = (20,6))\n",
    "\n",
    "ax = sb.distplot(clean_df[clean_df['Contract']=='Month-to-month']['tenure'],\n",
    "                   hist=True, kde=False,\n",
    "                   bins=60, color = '#3F51E7',\n",
    "                   hist_kws={'edgecolor':'black'},\n",
    "                   kde_kws={'linewidth': 4},\n",
    "                 ax=ax1)\n",
    "ax.set_ylabel('# of Customers')\n",
    "ax.set_xlabel('Tenure (months)')\n",
    "ax.set_title('Month to Month Contract')\n",
    "\n",
    "ax = sb.distplot(clean_df[clean_df['Contract']=='One year']['tenure'],\n",
    "                   hist=True, kde=False,\n",
    "                   bins=60, color = '#813FE7',\n",
    "                   hist_kws={'edgecolor':'black'},\n",
    "                   kde_kws={'linewidth': 4},\n",
    "                 ax=ax2)\n",
    "ax.set_xlabel('Tenure (months)',size = 14)\n",
    "ax.set_title('One Year Contract',size = 14)\n",
    "\n",
    "ax = sb.distplot(clean_df[clean_df['Contract']=='Two year']['tenure'],\n",
    "                   hist=True, kde=False,\n",
    "                   bins=60, color = '#E73FA5',\n",
    "                   hist_kws={'edgecolor':'black'},\n",
    "                   kde_kws={'linewidth': 4},\n",
    "                 ax=ax3)\n",
    "\n",
    "ax.set_xlabel('Tenure (months)')\n",
    "ax.set_title('Two Year Contract')"
   ]
  },
  {
   "cell_type": "markdown",
   "metadata": {},
   "source": [
    "## Explore Services provided by the telco company\n",
    "\n",
    "Some of these services have a positive correlation with churn and that will be explored during churn analysis."
   ]
  },
  {
   "cell_type": "code",
   "execution_count": null,
   "metadata": {},
   "outputs": [],
   "source": [
    "services = ['PhoneService','MultipleLines','InternetService','OnlineSecurity',\n",
    "           'OnlineBackup','DeviceProtection','TechSupport','StreamingTV','StreamingMovies']\n",
    "colors=['#9FE2BF', '#CCCCFF', '#DE3163']\n",
    "\n",
    "fig, axes = plt.subplots(nrows = 3,ncols = 3,figsize = (15,12))\n",
    "for i, item in enumerate(services):\n",
    "    if i < 3:\n",
    "        ax = clean_df[item].value_counts().plot(kind = 'bar',ax=axes[0,i],rot = 0, color=colors)\n",
    "        \n",
    "    elif i >=3 and i < 6:\n",
    "        ax = clean_df[item].value_counts().plot(kind = 'bar',ax=axes[1,i-3],rot = 0, color=colors)\n",
    "        \n",
    "    elif i < 9:\n",
    "        ax = clean_df[item].value_counts().plot(kind = 'bar',ax=axes[2,i-6],rot = 0, color=colors)\n",
    "    ax.set_title(item)"
   ]
  },
  {
   "cell_type": "markdown",
   "metadata": {},
   "source": [
    "### Monthly and totalcharges and their relation\n",
    "\n",
    "As monthly charge increase, we see an increase in total charge too."
   ]
  },
  {
   "cell_type": "code",
   "execution_count": null,
   "metadata": {},
   "outputs": [],
   "source": [
    "clean_df[['MonthlyCharges', 'TotalCharges']].plot.scatter(x = 'MonthlyCharges',y='TotalCharges')"
   ]
  },
  {
   "cell_type": "markdown",
   "metadata": {},
   "source": [
    "# 3) Churn Analysis\n",
    "\n",
    "Let's look at how many customers have churned in this dataset. 1 is \"Yes\" and 0 is \"No\".\n",
    "\n",
    "We can see that around 27% customers have churned. Now let us find out the factors leading to this churn rate.\n",
    "\n",
    "We will examine the factors that have positive correlation with churn and dig deep into it. Refer to the corr() plot."
   ]
  },
  {
   "cell_type": "code",
   "execution_count": null,
   "metadata": {},
   "outputs": [],
   "source": [
    "colors=['#00FFBF', '#F1D809']\n",
    "clean_df.Churn.value_counts(normalize=True).mul(100).plot(kind=\"bar\",xlabel=\"Churn\",ylabel=\"Customers in percentage(%)\",  rot=0, color=colors, title=\"Customer Churn in percentage(%)\")\n",
    "clean_df.Churn.value_counts()"
   ]
  },
  {
   "cell_type": "markdown",
   "metadata": {},
   "source": [
    "## Gender and Senior Citizens"
   ]
  },
  {
   "cell_type": "markdown",
   "metadata": {},
   "source": [
    "First let's confirm that gender doesn't have a strong influence in churning.\n",
    "\n",
    "We can see that amongst the customers who have churned, around 26% are male and 27% are female. This is almost same in terms of distribution which leads us to conclude that customer churn for this telco company is not a gender issue."
   ]
  },
  {
   "cell_type": "code",
   "execution_count": null,
   "metadata": {},
   "outputs": [],
   "source": [
    "colors = ['#900C3F', '#F25900']\n",
    "temp_two = clean_df.groupby('gender')['Churn'].value_counts(normalize=True, sort=False).mul(100).round(2)\n",
    "temp_two.unstack().plot(kind=\"bar\", ylabel=\"Customers in percentage(%)\", stacked=True, rot=0, color=colors, title=\"Gender vs Churn distribution in percentage(%)\")\n",
    "clean_df.groupby('gender')['Churn'].value_counts(normalize=False, sort=False)"
   ]
  },
  {
   "cell_type": "markdown",
   "metadata": {},
   "source": [
    "We know that the dataset consists of 83.8% non-senior citizens and the rest being senior citizens. Let's see how the churning is distributed amongst these two people category.\n",
    "\n",
    "We can see from below about 74.5% of the churned customers are non-senior citizens. This means that the telco company is losing more younger customers and the senior citizens have been loyal."
   ]
  },
  {
   "cell_type": "code",
   "execution_count": null,
   "metadata": {},
   "outputs": [],
   "source": [
    "colors = ['#900C3F', '#F25900']\n",
    "temp_three = clean_df.groupby('Churn')['SeniorCitizen'].value_counts(normalize=True, sort=False).mul(100).round(2)\n",
    "temp_three.unstack().plot(kind=\"bar\", ylabel=\"Customers in percentage(%)\", stacked=True, rot=0, color=colors, title=\"Churn vs SeniorCitizen in percentage(%)\")\n",
    "clean_df.groupby('Churn')['SeniorCitizen'].value_counts(normalize=False, sort=False)"
   ]
  },
  {
   "cell_type": "markdown",
   "metadata": {},
   "source": [
    "### Senior Citizen\n",
    "Let's see amongst those who have churned, what is the distribution of SeniorCitizen with respect to Contract types.\n",
    "\n",
    "We can see that amongst the churned customers, most had Month-to-month contract with 1214 non-senior citizens."
   ]
  },
  {
   "cell_type": "code",
   "execution_count": null,
   "metadata": {},
   "outputs": [],
   "source": [
    "temp_churn_yes_df = clean_df[(clean_df['Churn']== 1)]\n",
    "temp_churn_yes_df.groupby('Contract')['SeniorCitizen'].value_counts(normalize=False, sort=False).unstack().plot(kind=\"bar\", stacked=True, ylabel=\"# of customers\", rot=0, title=\"Contract vs Senior Citizen with Churn=Yes\")\n",
    "temp_churn_yes_df.groupby('Contract')['SeniorCitizen'].value_counts(normalize=False, sort=False)"
   ]
  },
  {
   "cell_type": "code",
   "execution_count": null,
   "metadata": {},
   "outputs": [],
   "source": [
    "import plotly.io as pio\n",
    "pio.renderers.default = \"notebook\""
   ]
  },
  {
   "cell_type": "markdown",
   "metadata": {},
   "source": [
    "We can see that most of the non-senior citizens are churning with total charges less than 2000. This trend is also similar with senior citizens who are churning having total charges < 3000."
   ]
  },
  {
   "cell_type": "code",
   "execution_count": null,
   "metadata": {},
   "outputs": [],
   "source": [
    "px.box(data_frame=clean_df,x=\"SeniorCitizen\",y=\"TotalCharges\",color=\"Churn\")"
   ]
  },
  {
   "cell_type": "markdown",
   "metadata": {},
   "source": [
    "![TotalCharge_SeniorCitizen_Churn](images/TotalCharges_SeniorCitizen_Churn.png)"
   ]
  },
  {
   "cell_type": "markdown",
   "metadata": {},
   "source": [
    "### Dependents\n",
    "\n",
    "We can see that churning is high amongst the  customers who have no dependents. 82.5% of the customers who have churned have no Dependents. This was also observed in the correlation plot. Does the having no dependents make it easier for customers to churn or shift companies?"
   ]
  },
  {
   "cell_type": "code",
   "execution_count": null,
   "metadata": {},
   "outputs": [],
   "source": [
    "colors = ['#FFC300', '#B1E73F']\n",
    "temp_four = clean_df.groupby('Churn')['Dependents'].value_counts(normalize=False, sort=False)\n",
    "temp_four.unstack().plot(kind=\"bar\", ylabel=\"# Customers\", stacked=True, rot=0, color=colors, title=\"Churn vs Dependents\")\n",
    "clean_df.groupby('Churn')['Dependents'].value_counts(normalize=True, sort=False).mul(100).round(2).astype(str) + '%'"
   ]
  },
  {
   "cell_type": "markdown",
   "metadata": {},
   "source": [
    "## Customer Account details"
   ]
  },
  {
   "cell_type": "markdown",
   "metadata": {},
   "source": [
    "## Churn vs. Tenure\n",
    "\n",
    "We can see from the below plot that those who churn, their tenure in average is less than 10 months. Either company hasn't provided enough value for the customers within this short period for them to stay.\n",
    "\n",
    "Long time customers have mostly stayed with an average of 40 months. We can also see customers with tenure greater than 60 to 70 months."
   ]
  },
  {
   "cell_type": "code",
   "execution_count": null,
   "metadata": {},
   "outputs": [],
   "source": [
    "sb.boxplot(x = clean_df.Churn, y = clean_df.tenure)"
   ]
  },
  {
   "cell_type": "markdown",
   "metadata": {},
   "source": [
    "Let's see how the contract types compare with tenure and churn.\n",
    "\n",
    "As we can see, the two year contract type has the highest tenure(60-70 +months) for customers who have remained loyal and not churned.\n",
    "\n",
    "Maximum churning can be seen in the 1-3 months under month-to-month contract type."
   ]
  },
  {
   "cell_type": "code",
   "execution_count": null,
   "metadata": {},
   "outputs": [],
   "source": [
    "colors=['#3F51E7','#813FE7','#E73FA5']\n",
    "plt.figure(figsize=(10,3),dpi=200)\n",
    "sb.displot(data=clean_df,x='tenure',bins=60,col='Contract',row='Churn', color='#813FE7')"
   ]
  },
  {
   "cell_type": "markdown",
   "metadata": {},
   "source": [
    "## Services provided by the telco company."
   ]
  },
  {
   "cell_type": "markdown",
   "metadata": {},
   "source": [
    "### Internet service\n",
    "From the corr() plot, we could see that Fiber optic internet service has a positive correlation with Churn. Let's dig into that.\n",
    "\n",
    "We can observe that amongst the churned customers, 69% of them had a Fiber optic Internet Service. This could mean that this Fiber Optic service provided by the telco company is not providing value to the customers."
   ]
  },
  {
   "cell_type": "code",
   "execution_count": null,
   "metadata": {},
   "outputs": [],
   "source": [
    "colors=['#9FE2BF', '#CCCCFF', '#DE3163']\n",
    "temp_five = clean_df.groupby('Churn')['InternetService'].value_counts(normalize=True, sort=False).mul(100).round(2)\n",
    "temp_five.unstack().plot(kind=\"bar\", ylabel=\"Customers in percentage(%)\", stacked=True, rot=0, color=colors, title=\"Churn vs InternetService in percentage(%)\")\n",
    "clean_df.groupby('Churn')['InternetService'].value_counts(normalize=False, sort=False)"
   ]
  },
  {
   "cell_type": "markdown",
   "metadata": {},
   "source": [
    "Churned customers who had opted Fiber optic service had an average tenure of 12 months."
   ]
  },
  {
   "cell_type": "code",
   "execution_count": null,
   "metadata": {},
   "outputs": [],
   "source": [
    "px.box(data_frame=clean_df,x=\"InternetService\",y=\"tenure\",color=\"Churn\")"
   ]
  },
  {
   "cell_type": "markdown",
   "metadata": {},
   "source": [
    "![tenure_InternetService_Churn](images/tenure_InternetService_Churn.png)"
   ]
  },
  {
   "cell_type": "markdown",
   "metadata": {},
   "source": [
    "## Payment Method\n",
    "\n",
    "From the corr() plot, we can see the Electronic Check payment method has a positive correlation with churn. Let's analyze that.\n",
    "\n",
    "Amongst the payment types, 57.3% of the churned customers had the Electronic check option. There might be a problem with the electronic check transfer that is causing payment related problems leaving customers unsatisfied."
   ]
  },
  {
   "cell_type": "code",
   "execution_count": null,
   "metadata": {},
   "outputs": [],
   "source": [
    "colors=['#9FE2BF', '#CCCCFF', '#DE3163', '#F1D809']\n",
    "temp_five = clean_df.groupby('Churn')['PaymentMethod'].value_counts(normalize=True, sort=False).mul(100).round(2)\n",
    "temp_five.unstack().plot(kind=\"bar\", ylabel=\"Customers in percentage(%)\", stacked=True, rot=0, color=colors, title=\"Churn vs PaymentMethod in percentage(%)\")\n",
    "clean_df.groupby('Churn')['PaymentMethod'].value_counts(normalize=False, sort=False)"
   ]
  },
  {
   "cell_type": "markdown",
   "metadata": {},
   "source": [
    "## Tech Support\n",
    "\n",
    "TechSupport has a positive correlation with churn as seen in the corr() plot.\n",
    "\n",
    "From the plot below, we can see that despite large number of customers opting for no Tech support in both Churned and non-churned category; amongst the churned customers, we see 83.4% of them had opted no tech support. \n",
    "\n",
    "We need to ask a bigger question as to whether bundling the tech support(and improving the tech support experience) with month-to-month contract could help in retaining customers."
   ]
  },
  {
   "cell_type": "code",
   "execution_count": null,
   "metadata": {},
   "outputs": [],
   "source": [
    "colors=['#9FE2BF', '#CCCCFF', '#DE3163']\n",
    "temp_five = clean_df.groupby('Churn')['TechSupport'].value_counts(normalize=True, sort=False).mul(100).round(2)\n",
    "temp_five.unstack().plot(kind=\"bar\", ylabel=\"Customers in percentage(%)\", stacked=True, rot=0, color=colors, title=\"Churn vs TechSupport in percentage(%)\")\n",
    "clean_df.groupby('Churn')['TechSupport'].value_counts(normalize=False, sort=False)"
   ]
  },
  {
   "cell_type": "markdown",
   "metadata": {},
   "source": [
    "Customers who have stayed with the company for longer tenure have opted for Tech Support. This could mean that either the long term contacts(one or two-year contracts) have been bundled with the tech support and it has provided value add. \n",
    "\n",
    "We also see the non-churned customers with smaller tenure(indicating month-to-month contract) have no tech support. Maybe introducing some form of tech support to month-to-month contracts could help retain customers because those who have churned have no tech support."
   ]
  },
  {
   "cell_type": "code",
   "execution_count": null,
   "metadata": {},
   "outputs": [],
   "source": [
    "plt.figure(figsize=(10,2),dpi=200)\n",
    "sb.displot(data=clean_df,x='tenure',bins=60,col='TechSupport',row='Churn', color='#E73FA5')"
   ]
  },
  {
   "cell_type": "markdown",
   "metadata": {},
   "source": [
    "# Monthly and Total Charges w.r.t Churn."
   ]
  },
  {
   "cell_type": "markdown",
   "metadata": {},
   "source": [
    "Here people who have more monthly charge instead of having lower total charge is more likely to churn."
   ]
  },
  {
   "cell_type": "code",
   "execution_count": null,
   "metadata": {},
   "outputs": [],
   "source": [
    "plt.figure(figsize=(10,4),dpi=200)\n",
    "sb.scatterplot(data= clean_df,x='MonthlyCharges',y='TotalCharges',hue='Churn', linewidth=0.5,alpha=0.5,palette='Dark2')"
   ]
  }
 ],
 "metadata": {
  "interpreter": {
   "hash": "c4168284543942be8a078af5ed41c0edda5aff5f69fa4e2a9af82392fed9c72d"
  },
  "kernelspec": {
   "display_name": "Python [conda env:base] *",
   "language": "python",
   "name": "conda-base-py"
  },
  "language_info": {
   "codemirror_mode": {
    "name": "ipython",
    "version": 3
   },
   "file_extension": ".py",
   "mimetype": "text/x-python",
   "name": "python",
   "nbconvert_exporter": "python",
   "pygments_lexer": "ipython3",
   "version": "3.12.7"
  }
 },
 "nbformat": 4,
 "nbformat_minor": 4
}
